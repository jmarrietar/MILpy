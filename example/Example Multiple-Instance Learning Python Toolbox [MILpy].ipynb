{
 "cells": [
  {
   "cell_type": "markdown",
   "metadata": {},
   "source": [
    "### Libraries and Algorithms "
   ]
  },
  {
   "cell_type": "code",
   "execution_count": 1,
   "metadata": {
    "collapsed": true
   },
   "outputs": [
    {
     "ename": "ImportError",
     "evalue": "cannot import name 'cross_validation' from 'sklearn' (c:\\Users\\albam\\anaconda3\\envs\\MachineLearning\\lib\\site-packages\\sklearn\\__init__.py)",
     "output_type": "error",
     "traceback": [
      "\u001b[1;31m---------------------------------------------------------------------------\u001b[0m",
      "\u001b[1;31mImportError\u001b[0m                               Traceback (most recent call last)",
      "Cell \u001b[1;32mIn[1], line 5\u001b[0m\n\u001b[0;32m      3\u001b[0m sys\u001b[38;5;241m.\u001b[39mpath\u001b[38;5;241m.\u001b[39mappend(os\u001b[38;5;241m.\u001b[39mpath\u001b[38;5;241m.\u001b[39mrealpath(\u001b[38;5;124m'\u001b[39m\u001b[38;5;124m..\u001b[39m\u001b[38;5;124m'\u001b[39m))\n\u001b[0;32m      4\u001b[0m \u001b[38;5;28;01mimport\u001b[39;00m \u001b[38;5;21;01mnumpy\u001b[39;00m \u001b[38;5;28;01mas\u001b[39;00m \u001b[38;5;21;01mnp\u001b[39;00m\n\u001b[1;32m----> 5\u001b[0m \u001b[38;5;28;01mfrom\u001b[39;00m \u001b[38;5;21;01msklearn\u001b[39;00m \u001b[38;5;28;01mimport\u001b[39;00m cross_validation\n\u001b[0;32m      6\u001b[0m \u001b[38;5;28;01mfrom\u001b[39;00m \u001b[38;5;21;01msklearn\u001b[39;00m \u001b[38;5;28;01mimport\u001b[39;00m metrics\n\u001b[0;32m      7\u001b[0m \u001b[38;5;28;01mimport\u001b[39;00m \u001b[38;5;21;01mtimeit\u001b[39;00m\n",
      "\u001b[1;31mImportError\u001b[0m: cannot import name 'cross_validation' from 'sklearn' (c:\\Users\\albam\\anaconda3\\envs\\MachineLearning\\lib\\site-packages\\sklearn\\__init__.py)"
     ]
    }
   ],
   "source": [
    "import sys,os\n",
    "# os.chdir('/Users/josemiguelarrieta/Documents/MILpy')\n",
    "sys.path.append(os.path.realpath('..'))\n",
    "import numpy as np\n",
    "from sklearn import cross_validation\n",
    "from sklearn import metrics\n",
    "import timeit\n",
    "from data import load_data\n",
    "\n",
    "#Import Algorithms \n",
    "from MILpy.Algorithms.simpleMIL import simpleMIL\n",
    "from MILpy.Algorithms.MILBoost import MILBoost\n",
    "from MILpy.Algorithms.maxDD import maxDD\n",
    "from MILpy.Algorithms.CKNN import CKNN\n",
    "from MILpy.Algorithms.EMDD import EMDD\n",
    "from MILpy.Algorithms.MILES import MILES\n",
    "from MILpy.Algorithms.BOW import BOW"
   ]
  },
  {
   "cell_type": "markdown",
   "metadata": {},
   "source": [
    "### Load data "
   ]
  },
  {
   "cell_type": "code",
   "execution_count": 3,
   "metadata": {
    "collapsed": true
   },
   "outputs": [],
   "source": [
    "#Load Data \n",
    "bags,labels,X = load_data('musk1_scaled')  #Musk1 Escalado\n",
    "#bags,labels,X = load_data('musk1_original')  #Musk1 Original\n",
    "#bags,labels,X = load_data('data_gauss')  #Gaussian data\n",
    "#bags,labels,X = load_data('fox_original')  #Musk1 Original"
   ]
  },
  {
   "cell_type": "markdown",
   "metadata": {},
   "source": [
    "### Split Data "
   ]
  },
  {
   "cell_type": "code",
   "execution_count": 4,
   "metadata": {
    "collapsed": true
   },
   "outputs": [],
   "source": [
    "seed = 66\n",
    "#seed = 70\n",
    "#Split Data\n",
    "#seed= 90\n",
    "train_bags, test_bags, train_labels, test_labels = cross_validation.train_test_split(bags, labels, test_size=0.1, random_state=seed)"
   ]
  },
  {
   "cell_type": "markdown",
   "metadata": {},
   "source": [
    "# Algorithms "
   ]
  },
  {
   "cell_type": "markdown",
   "metadata": {},
   "source": [
    "### Bag Of Words "
   ]
  },
  {
   "cell_type": "code",
   "execution_count": 7,
   "metadata": {
    "collapsed": false
   },
   "outputs": [
    {
     "name": "stdout",
     "output_type": "stream",
     "text": [
      "\n",
      " Accuracy: 90.00%\n",
      "\n",
      "Time: \n",
      "0.396009922028\n"
     ]
    },
    {
     "name": "stderr",
     "output_type": "stream",
     "text": [
      "/Users/josemiguelarrieta/anaconda/lib/python2.7/site-packages/sklearn/utils/validation.py:515: DataConversionWarning: A column-vector y was passed when a 1d array was expected. Please change the shape of y to (n_samples, ), for example using ravel().\n",
      "  y = column_or_1d(y, warn=True)\n"
     ]
    }
   ],
   "source": [
    "start_time = timeit.default_timer()\n",
    "bow_classifier = BOW() \n",
    "bow_classifier.fit(train_bags, train_labels,k=100,covar_type = 'diag',n_iter = 20)\n",
    "predictions = bow_classifier.predict(test_bags)\n",
    "accuracie = np.average(test_labels.T == np.sign(predictions))\n",
    "print '\\n Accuracy: %.2f%%' % (100 * accuracie)\n",
    "fpr, tpr, thresholds = metrics.roc_curve(test_labels, predictions, pos_label=1.)\n",
    "metrics.auc(fpr, tpr)\n",
    "\n",
    "# Time \n",
    "elapsed = timeit.default_timer() - start_time\n",
    "start_time = timeit.default_timer()\n",
    "print \"\\nTime: \"\n",
    "print elapsed "
   ]
  },
  {
   "cell_type": "markdown",
   "metadata": {},
   "source": [
    "### SimpleMIL [Average]"
   ]
  },
  {
   "cell_type": "code",
   "execution_count": 8,
   "metadata": {
    "collapsed": false
   },
   "outputs": [
    {
     "name": "stdout",
     "output_type": "stream",
     "text": [
      "\n",
      " Accuracy: 90.00%\n",
      "\n",
      "Time: \n",
      "0.00834393501282\n"
     ]
    },
    {
     "name": "stderr",
     "output_type": "stream",
     "text": [
      "/Users/josemiguelarrieta/anaconda/lib/python2.7/site-packages/sklearn/svm/base.py:514: DataConversionWarning: A column-vector y was passed when a 1d array was expected. Please change the shape of y to (n_samples, ), for example using ravel().\n",
      "  y_ = column_or_1d(y, warn=True)\n"
     ]
    }
   ],
   "source": [
    "start_time = timeit.default_timer()\n",
    "SMILa = simpleMIL() \n",
    "SMILa.fit(train_bags, train_labels, type='average')\n",
    "predictions = SMILa.predict(test_bags)\n",
    "accuracie = np.average(test_labels.T == np.sign(predictions))\n",
    "print '\\n Accuracy: %.2f%%' % (100 * accuracie)\n",
    "fpr, tpr, thresholds = metrics.roc_curve(test_labels, predictions, pos_label=1.)\n",
    "metrics.auc(fpr, tpr)\n",
    "\n",
    "# Time \n",
    "elapsed = timeit.default_timer() - start_time\n",
    "start_time = timeit.default_timer()\n",
    "print \"\\nTime: \"\n",
    "print elapsed "
   ]
  },
  {
   "cell_type": "markdown",
   "metadata": {},
   "source": [
    "### SimpleMIL [Extreme]"
   ]
  },
  {
   "cell_type": "code",
   "execution_count": 11,
   "metadata": {
    "collapsed": false
   },
   "outputs": [
    {
     "name": "stdout",
     "output_type": "stream",
     "text": [
      "\n",
      " Accuracy: 100.00%\n",
      "\n",
      "Time: \n",
      "0.00857186317444\n"
     ]
    },
    {
     "name": "stderr",
     "output_type": "stream",
     "text": [
      "/Users/josemiguelarrieta/anaconda/lib/python2.7/site-packages/sklearn/svm/base.py:514: DataConversionWarning: A column-vector y was passed when a 1d array was expected. Please change the shape of y to (n_samples, ), for example using ravel().\n",
      "  y_ = column_or_1d(y, warn=True)\n"
     ]
    }
   ],
   "source": [
    "start_time = timeit.default_timer()\n",
    "SMILe = simpleMIL() \n",
    "SMILe .fit(train_bags, train_labels, type='extreme')\n",
    "predictions = SMILe .predict(test_bags)\n",
    "accuracie = np.average(test_labels.T == np.sign(predictions))\n",
    "print '\\n Accuracy: %.2f%%' % (100 * accuracie)\n",
    "fpr, tpr, thresholds = metrics.roc_curve(test_labels, predictions, pos_label=1.)\n",
    "metrics.auc(fpr, tpr)\n",
    "\n",
    "# Time \n",
    "elapsed = timeit.default_timer() - start_time\n",
    "start_time = timeit.default_timer()\n",
    "print \"\\nTime: \"\n",
    "print elapsed "
   ]
  },
  {
   "cell_type": "markdown",
   "metadata": {},
   "source": [
    "### SimpleMIL [max]"
   ]
  },
  {
   "cell_type": "code",
   "execution_count": 12,
   "metadata": {
    "collapsed": false
   },
   "outputs": [
    {
     "name": "stdout",
     "output_type": "stream",
     "text": [
      "\n",
      " Accuracy: 70.00%\n",
      "\n",
      "Time: \n",
      "0.00584006309509\n"
     ]
    },
    {
     "name": "stderr",
     "output_type": "stream",
     "text": [
      "/Users/josemiguelarrieta/anaconda/lib/python2.7/site-packages/sklearn/svm/base.py:514: DataConversionWarning: A column-vector y was passed when a 1d array was expected. Please change the shape of y to (n_samples, ), for example using ravel().\n",
      "  y_ = column_or_1d(y, warn=True)\n"
     ]
    }
   ],
   "source": [
    "start_time = timeit.default_timer()\n",
    "SMILmx = simpleMIL() \n",
    "SMILmx.fit(train_bags, train_labels, type='max')\n",
    "predictions = SMILmx.predict(test_bags)\n",
    "accuracie = np.average(test_labels.T == np.sign(predictions))\n",
    "print '\\n Accuracy: %.2f%%' % (100 * accuracie)\n",
    "fpr, tpr, thresholds = metrics.roc_curve(test_labels, predictions, pos_label=1.)\n",
    "metrics.auc(fpr, tpr)\n",
    "\n",
    "# Time \n",
    "elapsed = timeit.default_timer() - start_time\n",
    "start_time = timeit.default_timer()\n",
    "print \"\\nTime: \"\n",
    "print elapsed "
   ]
  },
  {
   "cell_type": "markdown",
   "metadata": {},
   "source": [
    "### SimpleMIL [min]"
   ]
  },
  {
   "cell_type": "code",
   "execution_count": 13,
   "metadata": {
    "collapsed": false
   },
   "outputs": [
    {
     "name": "stdout",
     "output_type": "stream",
     "text": [
      "\n",
      " Accuracy: 100.00%\n",
      "\n",
      "Time: \n",
      "0.00563216209412\n"
     ]
    },
    {
     "name": "stderr",
     "output_type": "stream",
     "text": [
      "/Users/josemiguelarrieta/anaconda/lib/python2.7/site-packages/sklearn/svm/base.py:514: DataConversionWarning: A column-vector y was passed when a 1d array was expected. Please change the shape of y to (n_samples, ), for example using ravel().\n",
      "  y_ = column_or_1d(y, warn=True)\n"
     ]
    }
   ],
   "source": [
    "start_time = timeit.default_timer()\n",
    "SMILmn = simpleMIL() \n",
    "SMILmn.fit(train_bags, train_labels, type='min')\n",
    "predictions = SMILmn.predict(test_bags)\n",
    "accuracie = np.average(test_labels.T == np.sign(predictions))\n",
    "print '\\n Accuracy: %.2f%%' % (100 * accuracie)\n",
    "fpr, tpr, thresholds = metrics.roc_curve(test_labels, predictions, pos_label=1.)\n",
    "metrics.auc(fpr, tpr)\n",
    "\n",
    "# Time \n",
    "elapsed = timeit.default_timer() - start_time\n",
    "start_time = timeit.default_timer()\n",
    "print \"\\nTime: \"\n",
    "print elapsed "
   ]
  },
  {
   "cell_type": "markdown",
   "metadata": {},
   "source": [
    "### CNN"
   ]
  },
  {
   "cell_type": "code",
   "execution_count": 14,
   "metadata": {
    "collapsed": false
   },
   "outputs": [
    {
     "name": "stdout",
     "output_type": "stream",
     "text": [
      "\n",
      " Accuracy: 100.00%\n",
      "\n",
      "Time: \n",
      "11.1568579674\n"
     ]
    }
   ],
   "source": [
    "start_time = timeit.default_timer()\n",
    "cknn_classifier = CKNN() \n",
    "cknn_classifier.fit(train_bags, train_labels)\n",
    "predictions = cknn_classifier.predict(test_bags,3,5)\n",
    "accuracie = np.average(test_labels.T == np.sign(predictions))\n",
    "print '\\n Accuracy: %.2f%%' % (100 * accuracie)\n",
    "fpr, tpr, thresholds = metrics.roc_curve(test_labels, predictions, pos_label=1.)\n",
    "metrics.auc(fpr, tpr)\n",
    "\n",
    "# Time \n",
    "elapsed = timeit.default_timer() - start_time\n",
    "start_time = timeit.default_timer()\n",
    "print \"\\nTime: \"\n",
    "print elapsed \n",
    "\n"
   ]
  },
  {
   "cell_type": "markdown",
   "metadata": {},
   "source": [
    "### MAXDD"
   ]
  },
  {
   "cell_type": "code",
   "execution_count": 15,
   "metadata": {
    "collapsed": false
   },
   "outputs": [
    {
     "name": "stdout",
     "output_type": "stream",
     "text": [
      "\n",
      " Accuracy: 70.00%\n",
      "\n",
      "Time: \n",
      "3.0510020256\n"
     ]
    }
   ],
   "source": [
    "start_time = timeit.default_timer()\n",
    "maxdd_classifier = maxDD() \n",
    "maxdd_classifier.fit(train_bags=train_bags, train_labels=train_labels)  #Train Classifier\n",
    "out,predictions = maxdd_classifier.predict(test_bags)\n",
    "accuracie = np.average(test_labels.T == np.sign(predictions))\n",
    "print '\\n Accuracy: %.2f%%' % (100 * accuracie)\n",
    "fpr, tpr, thresholds = metrics.roc_curve(test_labels, out, pos_label=1.)\n",
    "metrics.auc(fpr, tpr)\n",
    "\n",
    "# Time \n",
    "elapsed = timeit.default_timer() - start_time\n",
    "start_time = timeit.default_timer()\n",
    "print \"\\nTime: \"\n",
    "print elapsed "
   ]
  },
  {
   "cell_type": "markdown",
   "metadata": {},
   "source": [
    "### EMDD"
   ]
  },
  {
   "cell_type": "code",
   "execution_count": 16,
   "metadata": {
    "collapsed": false
   },
   "outputs": [
    {
     "name": "stdout",
     "output_type": "stream",
     "text": [
      "\n",
      " Accuracy: 90.00%\n",
      "\n",
      "Time: \n",
      "16.240981102\n"
     ]
    },
    {
     "name": "stderr",
     "output_type": "stream",
     "text": [
      "/Users/josemiguelarrieta/anaconda/lib/python2.7/site-packages/sklearn/utils/validation.py:515: DataConversionWarning: A column-vector y was passed when a 1d array was expected. Please change the shape of y to (n_samples, ), for example using ravel().\n",
      "  y = column_or_1d(y, warn=True)\n"
     ]
    }
   ],
   "source": [
    "start_time = timeit.default_timer()\n",
    "emdd_classifier = EMDD() \n",
    "emdd_classifier.fit(train_bags=train_bags, train_labels=train_labels)  #Train Classifier\n",
    "out,predictions = emdd_classifier.predict(test_bags)\n",
    "#Metrics\n",
    "accuracie = np.average(test_labels.T == np.sign(predictions))\n",
    "print '\\n Accuracy: %.2f%%' % (100 * accuracie)\n",
    "fpr, tpr, thresholds = metrics.roc_curve(test_labels, 1-out, pos_label=1.)\n",
    "metrics.auc(fpr, tpr)\n",
    "\n",
    "# Time \n",
    "elapsed = timeit.default_timer() - start_time\n",
    "start_time = timeit.default_timer()\n",
    "print \"\\nTime: \"\n",
    "print elapsed "
   ]
  },
  {
   "cell_type": "markdown",
   "metadata": {},
   "source": [
    "### MILBoost"
   ]
  },
  {
   "cell_type": "code",
   "execution_count": 18,
   "metadata": {
    "collapsed": false
   },
   "outputs": [
    {
     "name": "stdout",
     "output_type": "stream",
     "text": [
      "Optimization terminated successfully.\n",
      "         Current function value: 70.474607\n",
      "         Iterations: 6\n",
      "         Function evaluations: 27\n",
      "         Gradient evaluations: 9\n",
      "Optimization terminated successfully.\n",
      "         Current function value: 68.542039\n",
      "         Iterations: 5\n",
      "         Function evaluations: 24\n",
      "         Gradient evaluations: 8\n",
      "Optimization terminated successfully.\n",
      "         Current function value: 67.777161\n",
      "         Iterations: 6\n",
      "         Function evaluations: 24\n",
      "         Gradient evaluations: 8\n",
      "Optimization terminated successfully.\n",
      "         Current function value: 67.315066\n",
      "         Iterations: 5\n",
      "         Function evaluations: 24\n",
      "         Gradient evaluations: 8\n",
      "Optimization terminated successfully.\n",
      "         Current function value: 67.027908\n",
      "         Iterations: 5\n",
      "         Function evaluations: 24\n",
      "         Gradient evaluations: 8\n",
      "Optimization terminated successfully.\n",
      "         Current function value: 66.819503\n",
      "         Iterations: 5\n",
      "         Function evaluations: 24\n",
      "         Gradient evaluations: 8\n",
      "Optimization terminated successfully.\n",
      "         Current function value: 66.668199\n",
      "         Iterations: 5\n",
      "         Function evaluations: 24\n",
      "         Gradient evaluations: 8\n",
      "Optimization terminated successfully.\n",
      "         Current function value: 66.548398\n",
      "         Iterations: 6\n",
      "         Function evaluations: 27\n",
      "         Gradient evaluations: 9\n",
      "Optimization terminated successfully.\n",
      "         Current function value: 66.454233\n",
      "         Iterations: 5\n",
      "         Function evaluations: 24\n",
      "         Gradient evaluations: 8\n",
      "Optimization terminated successfully.\n",
      "         Current function value: 66.452178\n",
      "         Iterations: 6\n",
      "         Function evaluations: 27\n",
      "         Gradient evaluations: 9\n",
      "Optimization terminated successfully.\n",
      "         Current function value: 66.452178\n",
      "         Iterations: 6\n",
      "         Function evaluations: 27\n",
      "         Gradient evaluations: 9\n",
      "Optimization terminated successfully.\n",
      "         Current function value: 66.452178\n",
      "         Iterations: 6\n",
      "         Function evaluations: 27\n",
      "         Gradient evaluations: 9\n",
      "Optimization terminated successfully.\n",
      "         Current function value: 66.452178\n",
      "         Iterations: 6\n",
      "         Function evaluations: 27\n",
      "         Gradient evaluations: 9\n",
      "Optimization terminated successfully.\n",
      "         Current function value: 66.452178\n",
      "         Iterations: 6\n",
      "         Function evaluations: 27\n",
      "         Gradient evaluations: 9\n",
      "Optimization terminated successfully.\n",
      "         Current function value: 66.452178\n",
      "         Iterations: 6\n",
      "         Function evaluations: 27\n",
      "         Gradient evaluations: 9\n",
      "Optimization terminated successfully.\n",
      "         Current function value: 66.452178\n",
      "         Iterations: 6\n",
      "         Function evaluations: 27\n",
      "         Gradient evaluations: 9\n",
      "Optimization terminated successfully.\n",
      "         Current function value: 66.452178\n",
      "         Iterations: 6\n",
      "         Function evaluations: 27\n",
      "         Gradient evaluations: 9\n",
      "Optimization terminated successfully.\n",
      "         Current function value: 66.452178\n",
      "         Iterations: 6\n",
      "         Function evaluations: 27\n",
      "         Gradient evaluations: 9\n",
      "Optimization terminated successfully.\n",
      "         Current function value: 66.452178\n",
      "         Iterations: 6\n",
      "         Function evaluations: 27\n",
      "         Gradient evaluations: 9\n",
      "Optimization terminated successfully.\n",
      "         Current function value: 66.452178\n",
      "         Iterations: 6\n",
      "         Function evaluations: 27\n",
      "         Gradient evaluations: 9\n",
      "Optimization terminated successfully.\n",
      "         Current function value: 66.452178\n",
      "         Iterations: 6\n",
      "         Function evaluations: 27\n",
      "         Gradient evaluations: 9\n",
      "Optimization terminated successfully.\n",
      "         Current function value: 66.452178\n",
      "         Iterations: 6\n",
      "         Function evaluations: 27\n",
      "         Gradient evaluations: 9\n",
      "Optimization terminated successfully.\n",
      "         Current function value: 66.452178\n",
      "         Iterations: 6\n",
      "         Function evaluations: 27\n",
      "         Gradient evaluations: 9\n",
      "Optimization terminated successfully.\n",
      "         Current function value: 66.452178\n",
      "         Iterations: 6\n",
      "         Function evaluations: 27\n",
      "         Gradient evaluations: 9\n",
      "Optimization terminated successfully.\n",
      "         Current function value: 66.452178\n",
      "         Iterations: 6\n",
      "         Function evaluations: 27\n",
      "         Gradient evaluations: 9\n",
      "Optimization terminated successfully.\n",
      "         Current function value: 66.452178\n",
      "         Iterations: 6\n",
      "         Function evaluations: 27\n",
      "         Gradient evaluations: 9\n",
      "Optimization terminated successfully.\n",
      "         Current function value: 66.452178\n",
      "         Iterations: 6\n",
      "         Function evaluations: 27\n",
      "         Gradient evaluations: 9\n",
      "Optimization terminated successfully.\n",
      "         Current function value: 66.452178\n",
      "         Iterations: 6\n",
      "         Function evaluations: 27\n",
      "         Gradient evaluations: 9\n",
      "Optimization terminated successfully.\n",
      "         Current function value: 66.452178\n",
      "         Iterations: 6\n",
      "         Function evaluations: 27\n",
      "         Gradient evaluations: 9\n",
      "Optimization terminated successfully.\n",
      "         Current function value: 66.452178\n",
      "         Iterations: 6\n",
      "         Function evaluations: 27\n",
      "         Gradient evaluations: 9\n",
      "Optimization terminated successfully.\n",
      "         Current function value: 66.452178\n",
      "         Iterations: 6\n",
      "         Function evaluations: 27\n",
      "         Gradient evaluations: 9\n",
      "Optimization terminated successfully.\n",
      "         Current function value: 66.452178\n",
      "         Iterations: 6\n",
      "         Function evaluations: 27\n",
      "         Gradient evaluations: 9\n",
      "Optimization terminated successfully.\n",
      "         Current function value: 66.452178\n",
      "         Iterations: 6\n",
      "         Function evaluations: 27\n",
      "         Gradient evaluations: 9\n",
      "Optimization terminated successfully.\n",
      "         Current function value: 66.452178\n",
      "         Iterations: 6\n",
      "         Function evaluations: 27\n",
      "         Gradient evaluations: 9\n",
      "Optimization terminated successfully.\n",
      "         Current function value: 66.452178\n",
      "         Iterations: 6\n",
      "         Function evaluations: 27\n",
      "         Gradient evaluations: 9\n",
      "Optimization terminated successfully.\n",
      "         Current function value: 66.452178\n",
      "         Iterations: 6\n",
      "         Function evaluations: 27\n",
      "         Gradient evaluations: 9\n",
      "Optimization terminated successfully.\n",
      "         Current function value: 66.452178\n",
      "         Iterations: 6\n",
      "         Function evaluations: 27\n",
      "         Gradient evaluations: 9\n",
      "Optimization terminated successfully.\n",
      "         Current function value: 66.452178\n",
      "         Iterations: 6\n",
      "         Function evaluations: 27\n",
      "         Gradient evaluations: 9\n",
      "Optimization terminated successfully.\n",
      "         Current function value: 66.452178\n",
      "         Iterations: 6\n",
      "         Function evaluations: 27\n",
      "         Gradient evaluations: 9\n",
      "Optimization terminated successfully.\n",
      "         Current function value: 66.452178\n",
      "         Iterations: 6\n",
      "         Function evaluations: 27\n",
      "         Gradient evaluations: 9\n",
      "Optimization terminated successfully.\n",
      "         Current function value: 66.452178\n",
      "         Iterations: 6\n",
      "         Function evaluations: 27\n",
      "         Gradient evaluations: 9\n",
      "Optimization terminated successfully.\n",
      "         Current function value: 66.452178\n",
      "         Iterations: 6\n",
      "         Function evaluations: 27\n",
      "         Gradient evaluations: 9\n",
      "Optimization terminated successfully.\n",
      "         Current function value: 66.452178\n",
      "         Iterations: 6\n",
      "         Function evaluations: 27\n",
      "         Gradient evaluations: 9\n",
      "Optimization terminated successfully.\n",
      "         Current function value: 66.452178\n",
      "         Iterations: 6\n",
      "         Function evaluations: 27\n",
      "         Gradient evaluations: 9\n",
      "Optimization terminated successfully.\n",
      "         Current function value: 66.452178\n",
      "         Iterations: 6\n",
      "         Function evaluations: 27\n",
      "         Gradient evaluations: 9\n",
      "Optimization terminated successfully.\n",
      "         Current function value: 66.452178\n",
      "         Iterations: 6\n",
      "         Function evaluations: 27\n",
      "         Gradient evaluations: 9\n",
      "Optimization terminated successfully.\n",
      "         Current function value: 66.452178\n",
      "         Iterations: 6\n",
      "         Function evaluations: 27\n",
      "         Gradient evaluations: 9\n",
      "Optimization terminated successfully.\n",
      "         Current function value: 66.452178\n",
      "         Iterations: 6\n",
      "         Function evaluations: 27\n",
      "         Gradient evaluations: 9\n",
      "Optimization terminated successfully.\n",
      "         Current function value: 66.452178\n",
      "         Iterations: 6\n",
      "         Function evaluations: 27\n",
      "         Gradient evaluations: 9\n",
      "Optimization terminated successfully.\n",
      "         Current function value: 66.452178\n",
      "         Iterations: 6\n",
      "         Function evaluations: 27\n",
      "         Gradient evaluations: 9\n",
      "Optimization terminated successfully.\n",
      "         Current function value: 66.452178\n",
      "         Iterations: 6\n",
      "         Function evaluations: 27\n",
      "         Gradient evaluations: 9\n",
      "Optimization terminated successfully.\n",
      "         Current function value: 66.452178\n",
      "         Iterations: 6\n",
      "         Function evaluations: 27\n",
      "         Gradient evaluations: 9\n",
      "Optimization terminated successfully.\n",
      "         Current function value: 66.452178\n",
      "         Iterations: 6\n",
      "         Function evaluations: 27\n",
      "         Gradient evaluations: 9\n",
      "Optimization terminated successfully.\n",
      "         Current function value: 66.452178\n",
      "         Iterations: 6\n",
      "         Function evaluations: 27\n",
      "         Gradient evaluations: 9\n",
      "Optimization terminated successfully.\n",
      "         Current function value: 66.452178\n",
      "         Iterations: 6\n",
      "         Function evaluations: 27\n",
      "         Gradient evaluations: 9\n",
      "Optimization terminated successfully.\n",
      "         Current function value: 66.452178\n",
      "         Iterations: 6\n",
      "         Function evaluations: 27\n",
      "         Gradient evaluations: 9\n",
      "Optimization terminated successfully.\n",
      "         Current function value: 66.452178\n",
      "         Iterations: 6\n",
      "         Function evaluations: 27\n",
      "         Gradient evaluations: 9\n",
      "Optimization terminated successfully.\n",
      "         Current function value: 66.452178\n",
      "         Iterations: 6\n",
      "         Function evaluations: 27\n",
      "         Gradient evaluations: 9\n",
      "Optimization terminated successfully.\n",
      "         Current function value: 66.452178\n",
      "         Iterations: 6\n",
      "         Function evaluations: 27\n",
      "         Gradient evaluations: 9\n",
      "Optimization terminated successfully.\n",
      "         Current function value: 66.452178\n",
      "         Iterations: 6\n",
      "         Function evaluations: 27\n",
      "         Gradient evaluations: 9\n",
      "Optimization terminated successfully.\n",
      "         Current function value: 66.452178\n",
      "         Iterations: 6\n",
      "         Function evaluations: 27\n",
      "         Gradient evaluations: 9\n",
      "Optimization terminated successfully.\n",
      "         Current function value: 66.452178\n",
      "         Iterations: 6\n",
      "         Function evaluations: 27\n",
      "         Gradient evaluations: 9\n",
      "Optimization terminated successfully.\n",
      "         Current function value: 66.452178\n",
      "         Iterations: 6\n",
      "         Function evaluations: 27\n",
      "         Gradient evaluations: 9\n",
      "Optimization terminated successfully.\n",
      "         Current function value: 66.452178\n",
      "         Iterations: 6\n",
      "         Function evaluations: 27\n",
      "         Gradient evaluations: 9\n",
      "Optimization terminated successfully.\n",
      "         Current function value: 66.452178\n",
      "         Iterations: 6\n",
      "         Function evaluations: 27\n",
      "         Gradient evaluations: 9\n",
      "Optimization terminated successfully.\n",
      "         Current function value: 66.452178\n",
      "         Iterations: 6\n",
      "         Function evaluations: 27\n",
      "         Gradient evaluations: 9\n",
      "Optimization terminated successfully.\n",
      "         Current function value: 66.452178\n",
      "         Iterations: 6\n",
      "         Function evaluations: 27\n",
      "         Gradient evaluations: 9\n",
      "Optimization terminated successfully.\n",
      "         Current function value: 66.452178\n",
      "         Iterations: 6\n",
      "         Function evaluations: 27\n",
      "         Gradient evaluations: 9\n",
      "Optimization terminated successfully.\n",
      "         Current function value: 66.452178\n",
      "         Iterations: 6\n",
      "         Function evaluations: 27\n",
      "         Gradient evaluations: 9\n",
      "Optimization terminated successfully.\n",
      "         Current function value: 66.452178\n",
      "         Iterations: 6\n",
      "         Function evaluations: 27\n",
      "         Gradient evaluations: 9\n",
      "Optimization terminated successfully.\n",
      "         Current function value: 66.452178\n",
      "         Iterations: 6\n",
      "         Function evaluations: 27\n",
      "         Gradient evaluations: 9\n",
      "Optimization terminated successfully.\n",
      "         Current function value: 66.452178\n",
      "         Iterations: 6\n",
      "         Function evaluations: 27\n",
      "         Gradient evaluations: 9\n",
      "Optimization terminated successfully.\n",
      "         Current function value: 66.452178\n",
      "         Iterations: 6\n",
      "         Function evaluations: 27\n",
      "         Gradient evaluations: 9\n",
      "Optimization terminated successfully.\n",
      "         Current function value: 66.452178\n",
      "         Iterations: 6\n",
      "         Function evaluations: 27\n",
      "         Gradient evaluations: 9\n",
      "Optimization terminated successfully.\n",
      "         Current function value: 66.452178\n",
      "         Iterations: 6\n",
      "         Function evaluations: 27\n",
      "         Gradient evaluations: 9\n",
      "Optimization terminated successfully.\n",
      "         Current function value: 66.452178\n",
      "         Iterations: 6\n",
      "         Function evaluations: 27\n",
      "         Gradient evaluations: 9\n",
      "Optimization terminated successfully.\n",
      "         Current function value: 66.452178\n",
      "         Iterations: 6\n",
      "         Function evaluations: 27\n",
      "         Gradient evaluations: 9\n",
      "Optimization terminated successfully.\n",
      "         Current function value: 66.452178\n",
      "         Iterations: 6\n",
      "         Function evaluations: 27\n",
      "         Gradient evaluations: 9\n",
      "Optimization terminated successfully.\n",
      "         Current function value: 66.452178\n",
      "         Iterations: 6\n",
      "         Function evaluations: 27\n",
      "         Gradient evaluations: 9\n",
      "Optimization terminated successfully.\n",
      "         Current function value: 66.452178\n",
      "         Iterations: 6\n",
      "         Function evaluations: 27\n",
      "         Gradient evaluations: 9\n",
      "Optimization terminated successfully.\n",
      "         Current function value: 66.452178\n",
      "         Iterations: 6\n",
      "         Function evaluations: 27\n",
      "         Gradient evaluations: 9\n",
      "Optimization terminated successfully.\n",
      "         Current function value: 66.452178\n",
      "         Iterations: 6\n",
      "         Function evaluations: 27\n",
      "         Gradient evaluations: 9\n",
      "Optimization terminated successfully.\n",
      "         Current function value: 66.452178\n",
      "         Iterations: 6\n",
      "         Function evaluations: 27\n",
      "         Gradient evaluations: 9\n",
      "Optimization terminated successfully.\n",
      "         Current function value: 66.452178\n",
      "         Iterations: 6\n",
      "         Function evaluations: 27\n",
      "         Gradient evaluations: 9\n",
      "Optimization terminated successfully.\n",
      "         Current function value: 66.452178\n",
      "         Iterations: 6\n",
      "         Function evaluations: 27\n",
      "         Gradient evaluations: 9\n",
      "Optimization terminated successfully.\n",
      "         Current function value: 66.452178\n",
      "         Iterations: 6\n",
      "         Function evaluations: 27\n",
      "         Gradient evaluations: 9\n",
      "Optimization terminated successfully.\n",
      "         Current function value: 66.452178\n",
      "         Iterations: 6\n",
      "         Function evaluations: 27\n",
      "         Gradient evaluations: 9\n",
      "Optimization terminated successfully.\n",
      "         Current function value: 66.452178\n",
      "         Iterations: 6\n",
      "         Function evaluations: 27\n",
      "         Gradient evaluations: 9\n",
      "Optimization terminated successfully.\n",
      "         Current function value: 66.452178\n",
      "         Iterations: 6\n",
      "         Function evaluations: 27\n",
      "         Gradient evaluations: 9\n",
      "Optimization terminated successfully.\n",
      "         Current function value: 66.452178\n",
      "         Iterations: 6\n",
      "         Function evaluations: 27\n",
      "         Gradient evaluations: 9\n",
      "Optimization terminated successfully.\n",
      "         Current function value: 66.452178\n",
      "         Iterations: 6\n",
      "         Function evaluations: 27\n",
      "         Gradient evaluations: 9\n",
      "Optimization terminated successfully.\n",
      "         Current function value: 66.452178\n",
      "         Iterations: 6\n",
      "         Function evaluations: 27\n",
      "         Gradient evaluations: 9\n",
      "Optimization terminated successfully.\n",
      "         Current function value: 66.452178\n",
      "         Iterations: 6\n",
      "         Function evaluations: 27\n",
      "         Gradient evaluations: 9\n",
      "Optimization terminated successfully.\n",
      "         Current function value: 66.452178\n",
      "         Iterations: 6\n",
      "         Function evaluations: 27\n",
      "         Gradient evaluations: 9\n",
      "Optimization terminated successfully.\n",
      "         Current function value: 66.452178\n",
      "         Iterations: 6\n",
      "         Function evaluations: 27\n",
      "         Gradient evaluations: 9\n",
      "Optimization terminated successfully.\n",
      "         Current function value: 66.452178\n",
      "         Iterations: 6\n",
      "         Function evaluations: 27\n",
      "         Gradient evaluations: 9\n",
      "Optimization terminated successfully.\n",
      "         Current function value: 66.452178\n",
      "         Iterations: 6\n",
      "         Function evaluations: 27\n",
      "         Gradient evaluations: 9\n",
      "Optimization terminated successfully.\n",
      "         Current function value: 66.452178\n",
      "         Iterations: 6\n",
      "         Function evaluations: 27\n",
      "         Gradient evaluations: 9\n",
      "Optimization terminated successfully.\n",
      "         Current function value: 66.452178\n",
      "         Iterations: 6\n",
      "         Function evaluations: 27\n",
      "         Gradient evaluations: 9\n",
      "Optimization terminated successfully.\n",
      "         Current function value: 66.452178\n",
      "         Iterations: 6\n",
      "         Function evaluations: 27\n",
      "         Gradient evaluations: 9\n",
      "0.619047619048\n",
      "\n",
      "Time: \n",
      "14.8336241245\n"
     ]
    }
   ],
   "source": [
    "start_time = timeit.default_timer()\n",
    "#Nota Importante:  Solo Funciona Con musk1 original. \n",
    "#Load Data \n",
    "bags,labels,X = load_data('musk1_original')  #Musk1 Original\n",
    "seed = 90\n",
    "train_bags, test_bags, train_labels, test_labels = cross_validation.train_test_split(bags, labels, test_size=0.1, random_state=seed)\n",
    "\n",
    "milboost_classifier = MILBoost() \n",
    "milboost_classifier.fit(train_bags, train_labels)\n",
    "out = milboost_classifier.predict(test_bags)\n",
    "fpr, tpr, thresholds = metrics.roc_curve(test_labels, out, pos_label=1.)\n",
    "print metrics.auc(fpr, tpr)\n",
    "\n",
    "# Time \n",
    "elapsed = timeit.default_timer() - start_time\n",
    "start_time = timeit.default_timer()\n",
    "print \"\\nTime: \"\n",
    "print elapsed "
   ]
  },
  {
   "cell_type": "code",
   "execution_count": null,
   "metadata": {
    "collapsed": true
   },
   "outputs": [],
   "source": [
    "                            #######\n",
    "                            #MILES#\n",
    "                            #######\n",
    "bags,labels,X = load_data('data_gauss')  #Gaussian data\n",
    "seed = 66\n",
    "train_bags, test_bags, train_labels, test_labels = cross_validation.train_test_split(bags, labels, test_size=0.1, random_state=seed)\n",
    "\n",
    "#Miles, sobre el entrenaod y probado en el training bueno,\n",
    "#Me hace pensar que depende mucho de datos de entrenamiento\n",
    "miles_classifier = MILES() \n",
    "#MILES.fit(train_bags=bags, train_labels=labels,ktype = 'p',P = 1)  #Train Classifier\n",
    "miles_classifier.fit(train_bags=train_bags, train_labels=train_labels,ktype = 'p',P = 1)  #Train Classifier\n",
    "out = miles_classifier.predict(test_bags)\n",
    "#Metrics\n",
    "#accuracie = np.average(test_labels.T == np.sign(predictions))\n",
    "print '\\n Accuracy: %.2f%%' % (100 * accuracie)\n",
    "fpr, tpr, thresholds = metrics.roc_curve(labels, out, pos_label=1.)\n",
    "metrics.auc(fpr, tpr)"
   ]
  }
 ],
 "metadata": {
  "kernelspec": {
   "display_name": "MachineLearning",
   "language": "python",
   "name": "python3"
  },
  "language_info": {
   "codemirror_mode": {
    "name": "ipython",
    "version": 3
   },
   "file_extension": ".py",
   "mimetype": "text/x-python",
   "name": "python",
   "nbconvert_exporter": "python",
   "pygments_lexer": "ipython3",
   "version": "3.8.18"
  }
 },
 "nbformat": 4,
 "nbformat_minor": 0
}
